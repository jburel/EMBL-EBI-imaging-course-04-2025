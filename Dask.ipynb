{
 "cells": [
  {
   "cell_type": "markdown",
   "id": "776ac5c5",
   "metadata": {},
   "source": [
    "# Dask\n",
    "\n",
    "[![Open in Colab](https://colab.research.google.com/assets/colab-badge.svg)](https://colab.research.google.com/github/ome/EMBL-EBI-imaging-course-04-2024/blob/main/Day_5/Dask.ipynb)\n"
   ]
  },
  {
   "cell_type": "markdown",
   "id": "14634fb9",
   "metadata": {
    "jp-MarkdownHeadingCollapsed": true
   },
   "source": [
    "## Learning objectives\n",
    "\n",
    "* Introduction to Dask Collections\n",
    "* Introduction to Dask schedulers\n",
    "\n",
    "## Launch\n",
    "\n",
    "This notebook uses the ``environment_basic.yml`` file."
   ]
  },
  {
   "cell_type": "markdown",
   "id": "2539f3ab",
   "metadata": {},
   "source": [
    "## What is Dask\n",
    "\n",
    "* [Dask](https://dask.org/) is a free and open-source parallel computing library that scales the existing Python ecosystem.\n",
    "* Dask helps you scale your data science and machine learning workflows. \n",
    "* Dask makes it easy to work with NumPy, pandas, and scikit-learn.\n",
    "* Dask is a framework to build distributed applications.\n",
    "* Dask can scale down to your laptop and up to a cluster. We will use it today on an environment which you can set up on your computer.\n",
    "\n",
    "\n",
    "Dask can be split into **two components**:\n",
    "\n",
    "* **Collections**:  \n",
    "\n",
    "Dask provides high-level Array, Bag, and DataFrame collections that mimic NumPy, lists, and pandas. The advantage of this is that it can run in parallel on data that cannot fit into memory.\n",
    "\n",
    "* **Schedulers**:\n",
    "\n",
    "Dask provides schedulers to run the tasks in parallel."
   ]
  },
  {
   "cell_type": "markdown",
   "id": "0f726c7e",
   "metadata": {},
   "source": [
    "## Examples\n",
    "We will go over some concepts of Dask that we will need today."
   ]
  },
  {
   "cell_type": "markdown",
   "id": "fd3f66d0",
   "metadata": {},
   "source": [
    "### Dask Array\n",
    "\n",
    "Dask arrays combine many [NumPy](https://numpy.org/) arrays, arranged into chunks within a grid."
   ]
  },
  {
   "cell_type": "markdown",
   "id": "6c8efbba",
   "metadata": {},
   "source": [
    "Create an array of numbers represented by several NumPy arrays of size 10x10 (the arrays will be smaller if they cannot be divided evenly)."
   ]
  },
  {
   "cell_type": "code",
   "execution_count": 1,
   "id": "d93f2200",
   "metadata": {},
   "outputs": [
    {
     "data": {
      "text/html": [
       "<table>\n",
       "    <tr>\n",
       "        <td>\n",
       "            <table style=\"border-collapse: collapse;\">\n",
       "                <thead>\n",
       "                    <tr>\n",
       "                        <td> </td>\n",
       "                        <th> Array </th>\n",
       "                        <th> Chunk </th>\n",
       "                    </tr>\n",
       "                </thead>\n",
       "                <tbody>\n",
       "                    \n",
       "                    <tr>\n",
       "                        <th> Bytes </th>\n",
       "                        <td> 78.12 kiB </td>\n",
       "                        <td> 800 B </td>\n",
       "                    </tr>\n",
       "                    \n",
       "                    <tr>\n",
       "                        <th> Shape </th>\n",
       "                        <td> (100, 100) </td>\n",
       "                        <td> (10, 10) </td>\n",
       "                    </tr>\n",
       "                    <tr>\n",
       "                        <th> Dask graph </th>\n",
       "                        <td colspan=\"2\"> 100 chunks in 1 graph layer </td>\n",
       "                    </tr>\n",
       "                    <tr>\n",
       "                        <th> Data type </th>\n",
       "                        <td colspan=\"2\"> float64 numpy.ndarray </td>\n",
       "                    </tr>\n",
       "                </tbody>\n",
       "            </table>\n",
       "        </td>\n",
       "        <td>\n",
       "        <svg width=\"170\" height=\"170\" style=\"stroke:rgb(0,0,0);stroke-width:1\" >\n",
       "\n",
       "  <!-- Horizontal lines -->\n",
       "  <line x1=\"0\" y1=\"0\" x2=\"120\" y2=\"0\" style=\"stroke-width:2\" />\n",
       "  <line x1=\"0\" y1=\"12\" x2=\"120\" y2=\"12\" />\n",
       "  <line x1=\"0\" y1=\"24\" x2=\"120\" y2=\"24\" />\n",
       "  <line x1=\"0\" y1=\"36\" x2=\"120\" y2=\"36\" />\n",
       "  <line x1=\"0\" y1=\"48\" x2=\"120\" y2=\"48\" />\n",
       "  <line x1=\"0\" y1=\"60\" x2=\"120\" y2=\"60\" />\n",
       "  <line x1=\"0\" y1=\"72\" x2=\"120\" y2=\"72\" />\n",
       "  <line x1=\"0\" y1=\"84\" x2=\"120\" y2=\"84\" />\n",
       "  <line x1=\"0\" y1=\"96\" x2=\"120\" y2=\"96\" />\n",
       "  <line x1=\"0\" y1=\"108\" x2=\"120\" y2=\"108\" />\n",
       "  <line x1=\"0\" y1=\"120\" x2=\"120\" y2=\"120\" style=\"stroke-width:2\" />\n",
       "\n",
       "  <!-- Vertical lines -->\n",
       "  <line x1=\"0\" y1=\"0\" x2=\"0\" y2=\"120\" style=\"stroke-width:2\" />\n",
       "  <line x1=\"12\" y1=\"0\" x2=\"12\" y2=\"120\" />\n",
       "  <line x1=\"24\" y1=\"0\" x2=\"24\" y2=\"120\" />\n",
       "  <line x1=\"36\" y1=\"0\" x2=\"36\" y2=\"120\" />\n",
       "  <line x1=\"48\" y1=\"0\" x2=\"48\" y2=\"120\" />\n",
       "  <line x1=\"60\" y1=\"0\" x2=\"60\" y2=\"120\" />\n",
       "  <line x1=\"72\" y1=\"0\" x2=\"72\" y2=\"120\" />\n",
       "  <line x1=\"84\" y1=\"0\" x2=\"84\" y2=\"120\" />\n",
       "  <line x1=\"96\" y1=\"0\" x2=\"96\" y2=\"120\" />\n",
       "  <line x1=\"108\" y1=\"0\" x2=\"108\" y2=\"120\" />\n",
       "  <line x1=\"120\" y1=\"0\" x2=\"120\" y2=\"120\" style=\"stroke-width:2\" />\n",
       "\n",
       "  <!-- Colored Rectangle -->\n",
       "  <polygon points=\"0.0,0.0 120.0,0.0 120.0,120.0 0.0,120.0\" style=\"fill:#ECB172A0;stroke-width:0\"/>\n",
       "\n",
       "  <!-- Text -->\n",
       "  <text x=\"60.000000\" y=\"140.000000\" font-size=\"1.0rem\" font-weight=\"100\" text-anchor=\"middle\" >100</text>\n",
       "  <text x=\"140.000000\" y=\"60.000000\" font-size=\"1.0rem\" font-weight=\"100\" text-anchor=\"middle\" transform=\"rotate(-90,140.000000,60.000000)\">100</text>\n",
       "</svg>\n",
       "        </td>\n",
       "    </tr>\n",
       "</table>"
      ],
      "text/plain": [
       "dask.array<random_sample, shape=(100, 100), dtype=float64, chunksize=(10, 10), chunktype=numpy.ndarray>"
      ]
     },
     "execution_count": 1,
     "metadata": {},
     "output_type": "execute_result"
    }
   ],
   "source": [
    "import dask.array as da\n",
    "x = da.random.random((100, 100), chunks=(10, 10))\n",
    "x"
   ]
  },
  {
   "cell_type": "markdown",
   "id": "f3e3a50b",
   "metadata": {},
   "source": [
    "Use NumPy syntax for operations with Dask arrays. See [numpy.array documentation](https://numpy.org/doc/stable/reference/generated/numpy.array.html).\n",
    "\n",
    "We transform the array `x` and add the values of ``x`` and transformed array ``x.T``.\n",
    "We divide the size of the array and the chunk by two along the first axis and slice from index 50 to the end along the second axis and calculate the mean"
   ]
  },
  {
   "cell_type": "code",
   "execution_count": 2,
   "id": "c617c061",
   "metadata": {},
   "outputs": [
    {
     "name": "stdout",
     "output_type": "stream",
     "text": [
      "(50, 100)\n"
     ]
    },
    {
     "data": {
      "text/html": [
       "<table>\n",
       "    <tr>\n",
       "        <td>\n",
       "            <table style=\"border-collapse: collapse;\">\n",
       "                <thead>\n",
       "                    <tr>\n",
       "                        <td> </td>\n",
       "                        <th> Array </th>\n",
       "                        <th> Chunk </th>\n",
       "                    </tr>\n",
       "                </thead>\n",
       "                <tbody>\n",
       "                    \n",
       "                    <tr>\n",
       "                        <th> Bytes </th>\n",
       "                        <td> 400 B </td>\n",
       "                        <td> 40 B </td>\n",
       "                    </tr>\n",
       "                    \n",
       "                    <tr>\n",
       "                        <th> Shape </th>\n",
       "                        <td> (50,) </td>\n",
       "                        <td> (5,) </td>\n",
       "                    </tr>\n",
       "                    <tr>\n",
       "                        <th> Dask graph </th>\n",
       "                        <td colspan=\"2\"> 10 chunks in 7 graph layers </td>\n",
       "                    </tr>\n",
       "                    <tr>\n",
       "                        <th> Data type </th>\n",
       "                        <td colspan=\"2\"> float64 numpy.ndarray </td>\n",
       "                    </tr>\n",
       "                </tbody>\n",
       "            </table>\n",
       "        </td>\n",
       "        <td>\n",
       "        <svg width=\"170\" height=\"79\" style=\"stroke:rgb(0,0,0);stroke-width:1\" >\n",
       "\n",
       "  <!-- Horizontal lines -->\n",
       "  <line x1=\"0\" y1=\"0\" x2=\"120\" y2=\"0\" style=\"stroke-width:2\" />\n",
       "  <line x1=\"0\" y1=\"29\" x2=\"120\" y2=\"29\" style=\"stroke-width:2\" />\n",
       "\n",
       "  <!-- Vertical lines -->\n",
       "  <line x1=\"0\" y1=\"0\" x2=\"0\" y2=\"29\" style=\"stroke-width:2\" />\n",
       "  <line x1=\"12\" y1=\"0\" x2=\"12\" y2=\"29\" />\n",
       "  <line x1=\"24\" y1=\"0\" x2=\"24\" y2=\"29\" />\n",
       "  <line x1=\"36\" y1=\"0\" x2=\"36\" y2=\"29\" />\n",
       "  <line x1=\"48\" y1=\"0\" x2=\"48\" y2=\"29\" />\n",
       "  <line x1=\"60\" y1=\"0\" x2=\"60\" y2=\"29\" />\n",
       "  <line x1=\"72\" y1=\"0\" x2=\"72\" y2=\"29\" />\n",
       "  <line x1=\"84\" y1=\"0\" x2=\"84\" y2=\"29\" />\n",
       "  <line x1=\"96\" y1=\"0\" x2=\"96\" y2=\"29\" />\n",
       "  <line x1=\"108\" y1=\"0\" x2=\"108\" y2=\"29\" />\n",
       "  <line x1=\"120\" y1=\"0\" x2=\"120\" y2=\"29\" style=\"stroke-width:2\" />\n",
       "\n",
       "  <!-- Colored Rectangle -->\n",
       "  <polygon points=\"0.0,0.0 120.0,0.0 120.0,29.030629010473877 0.0,29.030629010473877\" style=\"fill:#ECB172A0;stroke-width:0\"/>\n",
       "\n",
       "  <!-- Text -->\n",
       "  <text x=\"60.000000\" y=\"49.030629\" font-size=\"1.0rem\" font-weight=\"100\" text-anchor=\"middle\" >50</text>\n",
       "  <text x=\"140.000000\" y=\"14.515315\" font-size=\"1.0rem\" font-weight=\"100\" text-anchor=\"middle\" transform=\"rotate(0,140.000000,14.515315)\">1</text>\n",
       "</svg>\n",
       "        </td>\n",
       "    </tr>\n",
       "</table>"
      ],
      "text/plain": [
       "dask.array<mean_agg-aggregate, shape=(50,), dtype=float64, chunksize=(5,), chunktype=numpy.ndarray>"
      ]
     },
     "execution_count": 2,
     "metadata": {},
     "output_type": "execute_result"
    }
   ],
   "source": [
    "y = x + x.T\n",
    "print(y[::2].shape)\n",
    "z = y[::2, 50:].mean(axis=1)\n",
    "z"
   ]
  },
  {
   "cell_type": "markdown",
   "id": "37c16d0d",
   "metadata": {},
   "source": [
    "To get the result as a NumPy array"
   ]
  },
  {
   "cell_type": "code",
   "execution_count": 3,
   "id": "22d99141",
   "metadata": {},
   "outputs": [
    {
     "data": {
      "text/plain": [
       "array([1.04584071, 1.06998567, 1.03465863, 1.08447454, 1.06892304,\n",
       "       1.00529962, 0.96518974, 0.99055045, 0.95025888, 0.99138764,\n",
       "       0.91387502, 1.00480781, 0.96542963, 0.98906569, 1.14737193,\n",
       "       1.04255659, 0.98838456, 1.02720619, 0.95438894, 0.95277842,\n",
       "       1.00488341, 1.04957736, 0.96076232, 0.94057531, 1.06248276,\n",
       "       0.87216446, 0.98535561, 0.92250993, 1.08389769, 0.9774222 ,\n",
       "       1.07790348, 0.98619689, 1.07160621, 0.9580342 , 1.08155589,\n",
       "       0.99507228, 1.02934046, 0.97414949, 0.98329756, 0.98839573,\n",
       "       1.02403876, 0.9445758 , 0.97662979, 1.13811484, 0.94138436,\n",
       "       0.96498194, 0.9207191 , 0.92042073, 0.96125012, 0.93450164])"
      ]
     },
     "execution_count": 3,
     "metadata": {},
     "output_type": "execute_result"
    }
   ],
   "source": [
    "z.compute()"
   ]
  },
  {
   "cell_type": "markdown",
   "id": "6a5fa2cf",
   "metadata": {},
   "source": [
    "Depending on the available RAM, you might want to let the data persist in memory to speed up further computation"
   ]
  },
  {
   "cell_type": "code",
   "execution_count": 4,
   "id": "79b627d3",
   "metadata": {},
   "outputs": [],
   "source": [
    "y = y.persist()"
   ]
  },
  {
   "cell_type": "markdown",
   "id": "a37df3a9",
   "metadata": {},
   "source": [
    "To find the time it takes to perform an operation "
   ]
  },
  {
   "cell_type": "code",
   "execution_count": 5,
   "id": "b58c8e0a",
   "metadata": {},
   "outputs": [
    {
     "name": "stdout",
     "output_type": "stream",
     "text": [
      "CPU times: user 27.5 ms, sys: 5.5 ms, total: 33 ms\n",
      "Wall time: 47.1 ms\n"
     ]
    },
    {
     "data": {
      "text/plain": [
       "9995.900369409947"
      ]
     },
     "execution_count": 5,
     "metadata": {},
     "output_type": "execute_result"
    }
   ],
   "source": [
    "%time y.sum().compute()"
   ]
  },
  {
   "cell_type": "markdown",
   "id": "868d2a29",
   "metadata": {},
   "source": [
    "## Dask Delayed \n",
    "\n",
    "``for`` loops are often used to parallelize, e.g. iterate over all the 2D-planes of a Z-stack.\n",
    "\n",
    "Below we show how to parallelize sequential incrementation of each value using ``dask.delayed``."
   ]
  },
  {
   "cell_type": "code",
   "execution_count": 6,
   "id": "ece827e5",
   "metadata": {},
   "outputs": [],
   "source": [
    "data = [1, 2, 3, 4, 5, 6, 7, 8]"
   ]
  },
  {
   "cell_type": "code",
   "execution_count": 7,
   "id": "492c4d10",
   "metadata": {},
   "outputs": [],
   "source": [
    "from time import sleep\n",
    "\n",
    "def increment(x):\n",
    "    sleep(1)\n",
    "    return x + 1"
   ]
  },
  {
   "cell_type": "code",
   "execution_count": 8,
   "id": "928b3f83",
   "metadata": {},
   "outputs": [
    {
     "name": "stdout",
     "output_type": "stream",
     "text": [
      "Compute: 44\n",
      "CPU times: user 5.3 ms, sys: 3.31 ms, total: 8.61 ms\n",
      "Wall time: 8.03 s\n"
     ]
    }
   ],
   "source": [
    "%%time\n",
    "# Running without Dask Delayed (the \"usual\" way)\n",
    "results = []\n",
    "for x in data:\n",
    "    y = increment(x)\n",
    "    results.append(y)\n",
    "    \n",
    "total = sum(results)\n",
    "\n",
    "print(\"Compute:\", total) "
   ]
  },
  {
   "cell_type": "markdown",
   "id": "ffa9fb59",
   "metadata": {},
   "source": [
    "We will \"transform\" our function to use ``dask.delayed``. \n",
    "The code below will finish **very quickly**. It will record what we want to compute as a task into a graph that will run later on parallel hardware."
   ]
  },
  {
   "cell_type": "code",
   "execution_count": 9,
   "id": "8b8e72a2",
   "metadata": {},
   "outputs": [],
   "source": [
    "from dask import delayed"
   ]
  },
  {
   "cell_type": "code",
   "execution_count": 10,
   "id": "5142853a",
   "metadata": {},
   "outputs": [
    {
     "name": "stdout",
     "output_type": "stream",
     "text": [
      "Graph to compute [Delayed('increment-13b8edba-3697-4ac5-8205-6f3515c34b56'), Delayed('increment-347b1e21-96cc-44a7-93b3-347fb1c5b0fe'), Delayed('increment-d556c7be-19b8-4fe2-9104-d4fd4a01c3d6'), Delayed('increment-cdb79900-4ce9-4968-b4f4-dd400c52c1ee'), Delayed('increment-b1369ad3-3f1e-4c33-b926-6b1a48884597'), Delayed('increment-e2831373-abe7-46f4-a2bc-46239bcdf4c9'), Delayed('increment-20871b93-bcec-4d5e-a942-3f3da07fb13d'), Delayed('increment-f0176915-0ea2-4426-8f91-4708225ffdd6')]\n"
     ]
    }
   ],
   "source": [
    "# No computation happens here\n",
    "lazy_results = []\n",
    "\n",
    "for x in data:\n",
    "    y = delayed(increment)(x)\n",
    "    lazy_results.append(y)\n",
    "    \n",
    "print(\"Graph to compute\", lazy_results) "
   ]
  },
  {
   "cell_type": "markdown",
   "id": "dceda569",
   "metadata": {},
   "source": [
    "To get the result, we need to invoke the ``dask.compute`` method.\n",
    "\n",
    "The ``*`` in front of ``lazy_results`` below will **unpack the sequence/collection into positional arguments**."
   ]
  },
  {
   "cell_type": "code",
   "execution_count": 11,
   "id": "65a8f990",
   "metadata": {},
   "outputs": [
    {
     "name": "stdout",
     "output_type": "stream",
     "text": [
      "CPU times: user 4.89 ms, sys: 1.91 ms, total: 6.79 ms\n",
      "Wall time: 1.01 s\n",
      "Computed the graph : (2, 3, 4, 5, 6, 7, 8, 9)\n"
     ]
    }
   ],
   "source": [
    "import dask\n",
    "%time result = dask.compute(*lazy_results)\n",
    "print(\"Computed the graph :\", result)  # Print result after it is computed"
   ]
  },
  {
   "cell_type": "markdown",
   "id": "d1dd5624",
   "metadata": {},
   "source": [
    "There are few tricks to learn with ``dask.delayed``. Please check [dask.delayed best practices](https://docs.dask.org/en/latest/delayed-best-practices.html)"
   ]
  },
  {
   "cell_type": "markdown",
   "id": "f97cefb7",
   "metadata": {},
   "source": [
    "### Parallelize the code below using ``dask.delayed``\n",
    "\n",
    "We create a 3D-numpy array mimicking an image z-stack.\n",
    "We want to segment the XY-plane using ``dask_image``.\n",
    "The common way is to do it in ``for`` loop (see below), we want to segment the planes in parallel using ``dask.compute``\n",
    "\n",
    "```\n",
    "import dask etc.\n",
    "# Create an artificial image\n",
    "planes = da.random.random((10, 100, 100), chunks=(10, 10, 10))\n",
    "print(planes.shape)\n",
    "```\n",
    "\n",
    "```\n",
    "import dask_image.ndfilters\n",
    "import dask_image.ndmeasure\n",
    "\n",
    "\n",
    "for z in range(planes.shape[0]):\n",
    "    # move the code below in a new function and use dask.delayed\n",
    "    plane = planes[z, :, :]\n",
    "    smoothed_image = dask_image.ndfilters.gaussian_filter(plane, sigma=[1, 1])\n",
    "    threshold_value = 0.33 * da.max(smoothed_image).compute()\n",
    "    threshold_image = smoothed_image > threshold_value\n",
    "    label_image, num_labels = dask_image.ndmeasure.label(threshold_image)\n",
    "```    "
   ]
  },
  {
   "cell_type": "markdown",
   "id": "338bed63",
   "metadata": {},
   "source": [
    "### Install dependencies if required\n",
    "\n",
    "The cell below will install dependencies if you choose to run the notebook in [Google Colab](https://colab.research.google.com/notebooks/intro.ipynb#recent=true). **Do not run the cell if you are not running the notebook in Google Colab**.\n",
    "\n",
    "\n",
    "If using Google Colab, **do not** use the ``Runtime>Run all`` entry."
   ]
  },
  {
   "cell_type": "code",
   "execution_count": null,
   "id": "8f1c6802-444c-4b33-ab1c-9092e39999b8",
   "metadata": {
    "jp-MarkdownHeadingCollapsed": true
   },
   "outputs": [],
   "source": [
    "%pip install dask-image"
   ]
  },
  {
   "cell_type": "code",
   "execution_count": 12,
   "id": "aaac340b",
   "metadata": {},
   "outputs": [
    {
     "name": "stdout",
     "output_type": "stream",
     "text": [
      "(10, 100, 100)\n"
     ]
    }
   ],
   "source": [
    "planes = da.random.random((10, 100, 100), chunks=(2, 10, 10))\n",
    "print(planes.shape)"
   ]
  },
  {
   "cell_type": "code",
   "execution_count": 16,
   "id": "a9e67383",
   "metadata": {},
   "outputs": [],
   "source": [
    "import dask\n",
    "import dask_image.ndfilters\n",
    "import dask_image.ndmeasure\n",
    "\n",
    "def analyze(z):\n",
    "    plane = planes[z, :, :]\n",
    "    smoothed_image = dask_image.ndfilters.gaussian_filter(plane, sigma=[1, 1])\n",
    "    threshold_value = 0.33 * da.max(smoothed_image).compute()\n",
    "    threshold_image = smoothed_image > threshold_value\n",
    "    label_image, num_labels = dask_image.ndmeasure.label(threshold_image)\n",
    "    name = \"z:%s\" % (z)\n",
    "    return label_image, name"
   ]
  },
  {
   "cell_type": "markdown",
   "id": "7c864b44",
   "metadata": {},
   "source": [
    "Segment every plane across the z-stack:\n",
    " * First we prepare the graph\n",
    " * The we compute"
   ]
  },
  {
   "cell_type": "code",
   "execution_count": 17,
   "id": "ccdf57d2",
   "metadata": {},
   "outputs": [],
   "source": [
    "from dask import delayed\n",
    "\n",
    "lazy_results = []\n",
    "for z in range(planes.shape[0]):\n",
    "    r = delayed(analyze)(z)\n",
    "    lazy_results.append(r)"
   ]
  },
  {
   "cell_type": "code",
   "execution_count": 18,
   "id": "b44eafda",
   "metadata": {},
   "outputs": [
    {
     "name": "stdout",
     "output_type": "stream",
     "text": [
      "CPU times: user 6.17 s, sys: 452 ms, total: 6.62 s\n",
      "Wall time: 6.36 s\n"
     ]
    }
   ],
   "source": [
    "%time results = dask.compute(*lazy_results)"
   ]
  },
  {
   "cell_type": "markdown",
   "id": "5c9e1e35",
   "metadata": {},
   "source": [
    "View the results"
   ]
  },
  {
   "cell_type": "code",
   "execution_count": 19,
   "id": "7b19519f",
   "metadata": {},
   "outputs": [
    {
     "data": {
      "application/vnd.jupyter.widget-view+json": {
       "model_id": "6da98a7e9b9d4dc782cc59bcab2cce74",
       "version_major": 2,
       "version_minor": 0
      },
      "text/plain": [
       "interactive(children=(IntSlider(value=0, continuous_update=False, description='Select Plane', max=9), Output()…"
      ]
     },
     "metadata": {},
     "output_type": "display_data"
    },
    {
     "data": {
      "text/plain": [
       "<function __main__.display(i=0)>"
      ]
     },
     "execution_count": 19,
     "metadata": {},
     "output_type": "execute_result"
    }
   ],
   "source": [
    "import matplotlib.pyplot as plt\n",
    "%matplotlib inline\n",
    "from ipywidgets import *\n",
    "\n",
    "def display(i=0):\n",
    "    r, name = results[i]\n",
    "    fig = plt.figure(figsize=(10, 10))\n",
    "    plt.subplot(121)\n",
    "    plt.imshow(r)\n",
    "    plt.title(name)\n",
    "    fig.canvas.flush_events()\n",
    "\n",
    "interact(display, i= widgets.IntSlider(value=0, min=0, max=len(results)-1, step=1, description=\"Select Plane\", continuous_update=False))\n"
   ]
  },
  {
   "cell_type": "markdown",
   "id": "44972e84",
   "metadata": {},
   "source": [
    "### (Advanced) Dask cluster \n",
    "\n",
    "Your computer will have multiple cores e.g. 4. When writing regular Python code, you are probably only using 1 of them. If you are using NumPy, e.g. for matrix multiplication, you will be using multiple cores because NumPy knows how to do it but general Python code doesn't.\n",
    "\n",
    "Dask cluster allows you to use multiple cores on your computer.\n",
    "Dask has also a dashboard that you can use to monitor your work.\n",
    "\n",
    "This time we will use a local cluster to increment each value in the ``data`` array defined above."
   ]
  },
  {
   "cell_type": "code",
   "execution_count": 20,
   "id": "233af74b",
   "metadata": {},
   "outputs": [],
   "source": [
    "def prepare_call(client):\n",
    "    futures = []\n",
    "    for x in data:\n",
    "        y = client.submit(increment, x)\n",
    "        futures.append(y)\n",
    "    return futures"
   ]
  },
  {
   "cell_type": "markdown",
   "id": "3cad29a0",
   "metadata": {},
   "source": [
    "Create a local cluster"
   ]
  },
  {
   "cell_type": "code",
   "execution_count": 21,
   "id": "796cf1b6",
   "metadata": {},
   "outputs": [],
   "source": [
    "from dask.distributed import Client, LocalCluster"
   ]
  },
  {
   "cell_type": "code",
   "execution_count": 22,
   "id": "f9c74fb5",
   "metadata": {
    "scrolled": true
   },
   "outputs": [
    {
     "name": "stdout",
     "output_type": "stream",
     "text": [
      "[2, 3, 4, 5, 6, 7, 8, 9]\n"
     ]
    }
   ],
   "source": [
    "# if you want to specify number of workers etc.\n",
    "cluster = LocalCluster(n_workers=2, processes=True, threads_per_worker=1)\n",
    "# or simply \n",
    "# cluster = LocalCluster()\n",
    "with Client(cluster) as client:\n",
    "    # perform code\n",
    "    futures = prepare_call(client)\n",
    "    results = client.gather(futures)\n",
    "\n",
    "print(results)"
   ]
  },
  {
   "cell_type": "markdown",
   "id": "b0a27b81",
   "metadata": {},
   "source": [
    "## Parallelize using LocalCluster\n",
    "\n",
    "Using the 3D data above, parallelize the \"segmentation\" example this time using a LocalCluster instead of ``dask.delayed``. [Solution](Solutions_Dask.ipynb)"
   ]
  },
  {
   "cell_type": "markdown",
   "id": "3993e299",
   "metadata": {},
   "source": [
    "### License (BSD 2-Clause)\n",
    "Copyright (C) 2024 University of Dundee. All Rights Reserved.\n",
    "\n",
    "Redistribution and use in source and binary forms, with or without modification, are permitted provided that the following conditions are met:\n",
    "\n",
    "Redistributions of source code must retain the above copyright notice, this list of conditions and the following disclaimer.\n",
    "Redistributions in binary form must reproduce the above copyright notice, this list of conditions and the following disclaimer in the documentation and/or other materials provided with the distribution.\n",
    "THIS SOFTWARE IS PROVIDED BY THE COPYRIGHT HOLDERS AND CONTRIBUTORS \"AS IS\" AND ANY EXPRESS OR IMPLIED WARRANTIES, INCLUDING, BUT NOT LIMITED TO, THE IMPLIED WARRANTIES OF MERCHANTABILITY AND FITNESS FOR A PARTICULAR PURPOSE ARE DISCLAIMED. IN NO EVENT SHALL THE COPYRIGHT OWNER OR CONTRIBUTORS BE LIABLE FOR ANY DIRECT, INDIRECT, INCIDENTAL, SPECIAL, EXEMPLARY, OR CONSEQUENTIAL DAMAGES (INCLUDING, BUT NOT LIMITED TO, PROCUREMENT OF SUBSTITUTE GOODS OR SERVICES; LOSS OF USE, DATA, OR PROFITS; OR BUSINESS INTERRUPTION) HOWEVER CAUSED AND ON ANY THEORY OF LIABILITY, WHETHER IN CONTRACT, STRICT LIABILITY, OR TORT (INCLUDING NEGLIGENCE OR OTHERWISE) ARISING IN ANY WAY OUT OF THE USE OF THIS SOFTWARE, EVEN IF ADVISED OF THE POSSIBILITY OF SUCH DAMAGE."
   ]
  }
 ],
 "metadata": {
  "kernelspec": {
   "display_name": "imaging_course_basic_day5_2024",
   "language": "python",
   "name": "imaging_course_basic_day5_2024"
  },
  "language_info": {
   "codemirror_mode": {
    "name": "ipython",
    "version": 3
   },
   "file_extension": ".py",
   "mimetype": "text/x-python",
   "name": "python",
   "nbconvert_exporter": "python",
   "pygments_lexer": "ipython3",
   "version": "3.9.19"
  }
 },
 "nbformat": 4,
 "nbformat_minor": 5
}
