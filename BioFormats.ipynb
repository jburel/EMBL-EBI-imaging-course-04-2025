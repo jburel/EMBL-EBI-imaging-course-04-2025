{
 "cells": [
  {
   "cell_type": "markdown",
   "id": "c19fa770",
   "metadata": {},
   "source": [
    "# Handle images using Bio-Formats\n",
    "Java is a popular programming language and image processing software like [ImageJ](https://imagej.net/ij/) or [Fiji](https://imagej.net/software/fiji/) have been used by many scientists for decades.\n",
    "\n",
    "In order to analyse your image data, you need to be able to read the numerous proprietary file formats (PFF).\n",
    "[Bio-Formats](\n",
    "https://www.openmicroscopy.org/bio-formats/) is the most comprehensive software tool for reading and writing image data using standardized, open formats. Bio-Formats is a community driven Java project with a standardized application interface that supports open source analysis programs like ImageJ, Fiji.\n",
    "Bio-Formats is a library of readers than can easily be extended. This is outside the scope of this course.\n",
    "\n",
    "To explore the library, you can use images [Sample Images](https://downloads.openmicroscopy.org/images/). Alternatively, you can use your own images, or public repositories such as [Zenodo](https://zenodo.org) or [IDR](https://idr.openmicroscopy.org/about/download.html).\n"
   ]
  },
  {
   "cell_type": "markdown",
   "id": "718c43b2",
   "metadata": {},
   "source": [
    "## Learning Objectives\n",
    "\n",
    "* How to use Bio-Formats for reading images\n",
    "* How to use Bio-Formats for converting images"
   ]
  },
  {
   "cell_type": "markdown",
   "id": "f7cbe714",
   "metadata": {},
   "source": [
    "## Installation\n",
    "\n",
    "Bio-Formats being a Java library, the first step is to install Java.\n",
    "You can either install it globally (see instructions) or in a virtual environment e.g. Conda environment.\n",
    "\n",
    "### Install Bio-Formats Command Line Tools\n",
    "\n",
    "1. Download [Bio-Formats Command Line Tools (bftools)](https://downloads.openmicroscopy.org/bio-formats/8.0.1/artifacts/bftools.zip).\n",
    "2. Find the downloaded `bftools.zip` (most probably in the ``Downloads`` folder) and unzip it.\n",
    "3. The tools are portable, i.e. you can run them from the directory you unzip them to and they don't need an installer.\n",
    "4. Open a terminal (Command prompt) and go into the new `bftools` folder using the ``cd`` command\n",
    "   ```\n",
    "   cd /PATH/TO/BFTOOLS/bftools\n",
    "   ```"
   ]
  },
  {
   "cell_type": "markdown",
   "id": "76349d58",
   "metadata": {},
   "source": [
    "## Open image using Bio-Formats Command Line\n",
    "\n",
    "The [Command line tools overview](https://bio-formats.readthedocs.io/en/stable/users/comlinetools/index.html) describes all the commands available.\n",
    "\n",
    "The following command lists the supported formats."
   ]
  },
  {
   "cell_type": "code",
   "execution_count": null,
   "id": "3919c96f-34ee-4ce9-804e-418592ce2f18",
   "metadata": {},
   "outputs": [],
   "source": [
    "formatlist"
   ]
  },
  {
   "cell_type": "markdown",
   "id": "d70dd667-1edf-48fb-8b89-110322d6d71f",
   "metadata": {},
   "source": [
    "To check if a specific format is supported, us the ``grep`` command with the file extension.\n",
    "Let's check, for example, the ``.lif`` extension. Two readers should be returned"
   ]
  },
  {
   "cell_type": "code",
   "execution_count": null,
   "id": "57b2d484-1ab2-462c-be61-b46941d2ea0f",
   "metadata": {},
   "outputs": [],
   "source": [
    "formatlist | grep lif\n",
    "Leica Image File Format: can read (lif)\n",
    "Openlab LIFF: can read (liff)"
   ]
  },
  {
   "cell_type": "markdown",
   "id": "80fb51c3",
   "metadata": {},
   "source": [
    "### Reading use case\n",
    "Let's download a Leica file (`.lif`) for example from [imagesc-30856](https://downloads.openmicroscopy.org/images/Leica-LIF/imagesc-30856/) and read it. Note that the file name contains whitespaces.\n",
    "\n",
    "Whitespaces in file and folder names are problematic when working on the command line. If you try and pass a file name that contains spaces as an option to a command line program, the command interpreter sees several separate arguments. You can either rename the files or use quotes around each element to tell the command line interpreter that the whitespaces are part of the file name."
   ]
  },
  {
   "cell_type": "markdown",
   "id": "e3e9d1d9",
   "metadata": {},
   "source": [
    "The ``showinf`` command will open the image in a viewer. It will also show the image info as an output on the command line.\n",
    "User ``Ctrl+C`` to get back to the command prompt (the image will close). "
   ]
  },
  {
   "cell_type": "markdown",
   "id": "1484bac7-f773-4aa1-ab5a-e5b66fd82e9f",
   "metadata": {
    "vscode": {
     "languageId": "snippets"
    }
   },
   "source": [
    "```\n",
    "showinf /PATH/TO/DOWNLOADED/IMAGE\n",
    "Reading core metadata\n",
    "filename = /PATH/TO/DOWNLOADED/IMAGE\n",
    "Series count = 8\n",
    "Series #0 :\n",
    "\tImage count = 2\n",
    "\tRGB = false (1) \n",
    "\tInterleaved = false\n",
    "\tIndexed = true (false color, 8-bit LUT: 3 x 256)\n",
    "\tWidth = 1024\n",
    "\tHeight = 1024\n",
    "\tSizeZ = 1\n",
    "\tSizeT = 1\n",
    "\tSizeC = 2\n",
    "\tTile size = 1024 x 1024\n",
    "\tThumbnail size = 128 x 128\n",
    "\tEndianness = intel (little)\n",
    "\tDimension order = XYCZT (certain)\n",
    "\tPixel type = uint8\n",
    "\tValid bits per pixel = 8\n",
    "\tMetadata complete = true\n",
    "\tThumbnail series = false\n",
    "\t-----\n",
    "\tPlane #0 <=> Z 0, C 0, T 0\n",
    "\tPlane #1 <=> Z 0, C 1, T 0\n",
    "\n",
    "Series #1 :\n",
    "\tImage count = 2\n",
    "\tRGB = false (1) \n",
    "\tInterleaved = false\n",
    "\tIndexed = true (false color, 8-bit LUT: 3 x 256)\n",
    "\tWidth = 1024\n",
    "...\n",
    "```"
   ]
  },
  {
   "cell_type": "markdown",
   "id": "3ca1b6a4",
   "metadata": {},
   "source": [
    "## Bio-Formats as a conversion tool\n",
    "Often, rather than just reading an image and resaving it in a different format, it also makes sense to split the images into smaller parts, for example one might want to split a single file that contains images from a multiple-position scan into multiple individual files, where each file contains only images from a single position. Similarly, one may want to split images between different channels, time points or Z-slices. To keep track of the particular position (e.g. the well of a multiwell plate) or time point/channel/Z-slice that an image came from in the subsequent batch analysis workflow, it can be useful to embed such metadata in the filename.\n",
    "\n",
    "Very often the conversion is done into ``.tif`` format.\n",
    "\n",
    "The approach of splitting, converting and renaming can have some benefits:\n",
    "\n",
    "- It allows for standardization in an image analysis workflow even in a heterogeneous facility environment with many different microscopes.\n",
    "- By using the extra step of renaming/conversion, the same pipeline/workflow can be used for images originating from different microscope systems.\n",
    "- Dealing with single large files often has performance penalties, handling smaller files can be more efficient.\n",
    "- Analysing or sharing a subset of the data is more easily done on a collection of files (this can simply be done in any file manager) rather than with a single file which can exceed hundreds of Gigabytes for a large time lapse experiment.\n",
    "\n",
    "### Common use case\n",
    "\n",
    "Often you will use ``bfconvert`` in the following way:\n",
    "\n",
    "```\n",
    "bfconvert inputfile  outputfilepattern\n",
    "```\n",
    "or \n",
    "```\n",
    "bfconvert -padded inputfile  outputfilepattern\n",
    "```\n",
    "\n",
    "where ``inputfile`` is the path to the input file and ``outputfilepattern`` specifies the output file path and format string.\n",
    "\n",
    "The ``outputfilepattern`` is not a single filename but rather a format string that defines a filename template. After all we want to split a single file into many files, so we need to specify how the many files are named. The command ``bfconvert`` replaces parts of the format string with the index number or name of the particular subset of the input file that is written to a given output file, according to the following pattern:\n",
    "\n",
    "```\n",
    "   Pattern:     Metadata value:\n",
    "   ---------------------------\n",
    "   %s           series index\n",
    "   %n           series name\n",
    "   %c           channel index\n",
    "   %w           channel name\n",
    "   %z           Z index\n",
    "   %t           T index\n",
    "   %A           acquisition timestamp\n",
    "   %x           row index of the tile\n",
    "   %y           column index of the tile\n",
    "   %m           overall tile index\n",
    "```\n",
    "\n",
    "For a given file format you may have to try out first what series and other metadata fields correspond to.\n",
    "\n",
    "For example, for ``.lif`` files (Leica), the different series indices correspond to different positions of a multiposition scan.\n",
    "\n",
    "``-padded`` zero-padding of numbers\n",
    "\n",
    "Very often, you will want to pass the ``-padded`` option. This makes sure that all numbers in the filename will have the same number of digits, e.g. ``1`` will be converted to ``001`` if there are more than 100 images in the series. This helps with sorting files in tools useing alphabetical sorting."
   ]
  },
  {
   "cell_type": "markdown",
   "id": "9dd1da9e-a4eb-45ac-b25e-b462221f99e1",
   "metadata": {},
   "source": [
    "### Converting to OME-TIFF\n",
    "\n",
    "\n",
    "The [OME-TIFF](https://ome-model.readthedocs.io/en/stable/ome-tiff/) format was created to maximize the respective strengths of [OME-XML](https://ome-model.readthedocs.io/en/stable/ome-xml/), a file format for storing microscopy information (both pixels and metadata) using the [OME Data Model](https://ome-model.readthedocs.io/en/stable/) and [TIFF](https://en.wikipedia.org/wiki/TIFF). It takes advantage of the rich metadata defined in OME-XML while retaining the pixels in multi-page TIFF format for compatibility with many more applications.\n",
    "\n",
    "An OME-TIFF dataset has the following characteristics:\n",
    "\n",
    "- Image planes are stored within one multi-page TIFF file, or across multiple TIFF files. Any image organization is feasible.\n",
    "- A complete OME-XML metadata block describing the dataset is embedded in each TIFF file’s header. Thus, even if some of the TIFF files in a dataset are misplaced, the metadata remains intact.\n",
    "- The OME-XML metadata block may contain anything allowed in a standard OME-XML file.\n",
    "- OME-TIFF uses the standard TIFF mechanism for storing one or more image planes in each of the constituent files, instead of encoding pixels as base64 chunks within the XML. Since TIFF is an image format, it makes sense to only use OME-TIFF as opposed to OME-XML, when there is at least one image plane.\n",
    "\n",
    "Converting to OME-TIFF is a common mechanism used to open files in Software not supporting the original format, including proprietary Software e.g. [Imaris](https://imaris.oxinst.com/)"
   ]
  },
  {
   "cell_type": "markdown",
   "id": "699dd684-0728-4508-9fa6-9e1224a556d5",
   "metadata": {},
   "source": [
    "Let's now convert the ``.lif`` file into OME-TIFF (``.ome.tiff``) Either use quotes or replace, for example, whitespaces by underscore.\n",
    "```\n",
    "bfconvert \"20191025 Test FRET 585. 423, 426.lif\" output.ome.tiff\n",
    "```\n",
    "\n",
    "Read the metadata only\n",
    "\n",
    "```\n",
    "showinf -nopix output.ome.tiff\n",
    "```"
   ]
  },
  {
   "cell_type": "markdown",
   "id": "45b923b7-92b2-48ea-8a9a-e4994b36d25f",
   "metadata": {},
   "source": [
    "To convert files in batch, you will often use a ``bash`` script i.e. a Unix command line interface responsible for interacting with a computer's operating system. \n",
    "The code snippet below shows how to loop through a directory and convert the ``.lif`` files.\n",
    "This is the content of ``convert.sh`` file.\n",
    "\n",
    "```\n",
    "#!/bin/bash\n",
    "\n",
    "directory=$1\n",
    "\n",
    "for file in \"$directory\"/*.lif; do\n",
    "    # check that it is a file\n",
    "    if [ -f \"$file\" ]; then\n",
    "      # print the file\n",
    "      echo \"$file\"\n",
    "      filename=$(basename -- \"$file\")\n",
    "      extension=\"${filename##*.}\"\n",
    "      filename=\"${filename%.*}\" # get the name of the file\n",
    "      bfconvert \"$file\" \"$filename\".ome.tiff\n",
    "    fi\n",
    "  done\n",
    "\n",
    "```\n",
    "The script assumes that it is placed in the same directory where ``bfconvert`` can be executed. To run it from a different location, \n",
    "replace ``bfconvert`` by ``FULL_PATH_TO/bfconvert``\n",
    "\n",
    "To execute the script:\n",
    "1. Open a terminal\n",
    "2. Run ``bash convert.sh NAME_OF_DIRECTORY``. "
   ]
  },
  {
   "cell_type": "markdown",
   "id": "1d3d3f13-58bd-4205-bd68-fe31bdbb451a",
   "metadata": {},
   "source": [
    "Other command line converters based on Bio-Formats are available to convert to OME-TIFF e.g. [raw2ometiff](https://github.com/glencoesoftware/raw2ometiff), [bioformats2raw](https://github.com/glencoesoftware/bioformats2raw).\n",
    "Converting using the command line is useful when creating or managing a large volume of data since it is straightforward to write a command line script looping, for example, over all the files in a given folder.\n",
    "\n",
    "Graphical User Interface tools based on Bio-Formats also exist to convert images into OME-TIFF.\n",
    "One example is the freely available [NGFF converter](https://www.glencoesoftware.com/products/ngff-converter/) developed by [GlencoeSoftware](https://www.glencoesoftware.com/).\n",
    "\n",
    "### Converting using the NGFF converter\n",
    "1. Download from [downloads.glencoesoftware.com](https://downloads.glencoesoftware.com/public/NGFF-Converter/latest/) the executable corresponding to your operating system.\n",
    "2. Open the converter.\n",
    "3. Drag and drop the ``.lif`` file into the converter pane.\n",
    "4. In the next window, select ``OME-TIFF`` as the output format and convert it into ``OME-TIFF`` by clicking the play button under the ``Actions`` tab."
   ]
  },
  {
   "cell_type": "markdown",
   "id": "da063e1f-3a18-4466-bfe7-615a6f21f8e8",
   "metadata": {},
   "source": [
    "### License (BSD 2-Clause)\n",
    "Copyright (C) 2025 University of Dundee. All Rights Reserved.\n",
    "\n",
    "Redistribution and use in source and binary forms, with or without modification, are permitted provided that the following conditions are met:\n",
    "\n",
    "Redistributions of source code must retain the above copyright notice, this list of conditions and the following disclaimer.\n",
    "Redistributions in binary form must reproduce the above copyright notice, this list of conditions and the following disclaimer in the documentation and/or other materials provided with the distribution.\n",
    "THIS SOFTWARE IS PROVIDED BY THE COPYRIGHT HOLDERS AND CONTRIBUTORS \"AS IS\" AND ANY EXPRESS OR IMPLIED WARRANTIES, INCLUDING, BUT NOT LIMITED TO, THE IMPLIED WARRANTIES OF MERCHANTABILITY AND FITNESS FOR A PARTICULAR PURPOSE ARE DISCLAIMED. IN NO EVENT SHALL THE COPYRIGHT OWNER OR CONTRIBUTORS BE LIABLE FOR ANY DIRECT, INDIRECT, INCIDENTAL, SPECIAL, EXEMPLARY, OR CONSEQUENTIAL DAMAGES (INCLUDING, BUT NOT LIMITED TO, PROCUREMENT OF SUBSTITUTE GOODS OR SERVICES; LOSS OF USE, DATA, OR PROFITS; OR BUSINESS INTERRUPTION) HOWEVER CAUSED AND ON ANY THEORY OF LIABILITY, WHETHER IN CONTRACT, STRICT LIABILITY, OR TORT (INCLUDING NEGLIGENCE OR OTHERWISE) ARISING IN ANY WAY OUT OF THE USE OF THIS SOFTWARE, EVEN IF ADVISED OF THE POSSIBILITY OF SUCH DAMAGE."
   ]
  }
 ],
 "metadata": {
  "kernelspec": {
   "display_name": "imaging_course_public_day4_2024",
   "language": "python",
   "name": "imaging_course_public_day4_2024"
  },
  "language_info": {
   "codemirror_mode": {
    "name": "ipython",
    "version": 3
   },
   "file_extension": ".py",
   "mimetype": "text/x-python",
   "name": "python",
   "nbconvert_exporter": "python",
   "pygments_lexer": "ipython3",
   "version": "3.9.18"
  }
 },
 "nbformat": 4,
 "nbformat_minor": 5
}
