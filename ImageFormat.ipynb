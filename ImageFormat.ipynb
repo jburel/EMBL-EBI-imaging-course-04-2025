{
 "cells": [
  {
   "cell_type": "markdown",
   "id": "b75b3a2e-154a-4835-9783-e5300744978f",
   "metadata": {},
   "source": [
    "[![Open in Colab](https://colab.research.google.com/assets/colab-badge.svg)](https://colab.research.google.com/github/ome/EMBL-EBI-imaging-course-04-2025/blob/main/ImageFormat.ipynb)\n",
    "## Learning Objectives\n",
    "* How to read various image formats"
   ]
  },
  {
   "cell_type": "markdown",
   "id": "76b6fd0b-d218-4f18-8a28-1c2f15b5268d",
   "metadata": {},
   "source": [
    "When working with images in Python a library to consider is [scikit-image](https://scikit-image.org/) library. This is useful when working with TIFF images. Supporting a format does not necessary mean than all images in that format will be correctly read.\n",
    "Another library to consider [imageio](https://imageio.readthedocs.io/en/stable/). Scipy has deprecated their image I/O functionality for [imageio](https://imageio.readthedocs.io/en/stable/user_guide/scipy.html).\n",
    "\n",
    "The [BioIO](https://github.com/bioio-devs/bioio) supports several proprietary file formats e.g. ``nd2``, ``czi`` and has Python wrapper around the reference Java library for reading many proprietary file formats [Bio-Formats](https://www.openmicroscopy.org/bio-formats/). This is obviously not a pure Python solution since it requires installed in order to run.\n",
    "The BioIO library does not currently run on Google Colab."
   ]
  },
  {
   "cell_type": "markdown",
   "id": "dbc7cd0b-7f3b-458b-8865-6154ebcc3261",
   "metadata": {},
   "source": [
    "The reading functions of most Python library will return by default a [Numpy array](https://numpy.org/doc/stable/reference/generated/numpy.array.html). The `imageio` library supports reading local data or remote data"
   ]
  },
  {
   "cell_type": "code",
   "execution_count": null,
   "id": "caccb5d9-8430-4d67-8f05-928815272241",
   "metadata": {},
   "outputs": [],
   "source": [
    "!wget https://github.com/imageio/imageio-binaries/raw/master/images/bacterial_colony.tif"
   ]
  },
  {
   "cell_type": "code",
   "execution_count": null,
   "id": "9882b4ab-2975-4f68-aa4c-d52eb2b03075",
   "metadata": {},
   "outputs": [],
   "source": [
    "path = \"/content/bacterial_colony.tif\"\n",
    "import imageio.v3 as iio\n",
    "img = iio.imread(path)"
   ]
  },
  {
   "cell_type": "code",
   "execution_count": null,
   "id": "a62f5941-7b7e-4bb6-9d5e-e5ffe921d8f9",
   "metadata": {},
   "outputs": [],
   "source": [
    "print(img.shape)"
   ]
  },
  {
   "cell_type": "code",
   "execution_count": null,
   "id": "d3bfeeb9-0ba3-4186-940d-8ac37889cb2c",
   "metadata": {},
   "outputs": [],
   "source": [
    "import matplotlib.pyplot as plt\n",
    "plt.imshow(img[0, :, :])"
   ]
  },
  {
   "cell_type": "code",
   "execution_count": null,
   "id": "c56b7422-8302-4bd9-bf59-611583291f95",
   "metadata": {},
   "outputs": [],
   "source": [
    "path = \"https://downloads.openmicroscopy.org/images/TIFF/condensation/A1.pattern1.tif\""
   ]
  },
  {
   "cell_type": "code",
   "execution_count": null,
   "id": "3bfdad46-2856-4539-a492-b8dc0be9c7d6",
   "metadata": {},
   "outputs": [],
   "source": [
    "img = iio.imread(path)\n",
    "print(img.shape)"
   ]
  },
  {
   "cell_type": "markdown",
   "id": "acdc4d8b-1f3d-44eb-8932-6f60f67fef0b",
   "metadata": {},
   "source": [
    "To understand the image e.g. what are the dimensions, it is important to be able to read the metadata.\n",
    "The information might not always be available"
   ]
  },
  {
   "cell_type": "code",
   "execution_count": null,
   "id": "d3dafbdb-99d8-4bfb-b713-8de0e67c0351",
   "metadata": {},
   "outputs": [],
   "source": [
    "metadata = iio.immeta(path)\n",
    "print(metadata.get('Info'))"
   ]
  },
  {
   "cell_type": "code",
   "execution_count": null,
   "id": "8a217c93-26e7-40d4-aa72-7c35c87170dc",
   "metadata": {},
   "outputs": [],
   "source": [
    "!pip install nd2"
   ]
  },
  {
   "cell_type": "code",
   "execution_count": null,
   "id": "51255136-6b3b-4933-9dc1-75cb4670313d",
   "metadata": {},
   "outputs": [],
   "source": [
    "!wget https://downloads.openmicroscopy.org/images/ND2/zenodo-14893791/C3_N01Ato5_nucleo-trans_div3_mSG_b2s_200ms_30%25_Reconstructed.nd2"
   ]
  },
  {
   "cell_type": "code",
   "execution_count": null,
   "id": "3c32e5c0-2a3d-4379-9711-699f33491e9d",
   "metadata": {},
   "outputs": [],
   "source": [
    "import n2\n",
    "values = nd2.imread('/content/C3_N01Ato5_nucleo-trans_div3_mSG_b2s_200ms_30%25_Reconstructed.nd2') "
   ]
  }
 ],
 "metadata": {
  "kernelspec": {
   "display_name": "Python 3 (ipykernel)",
   "language": "python",
   "name": "python3"
  },
  "language_info": {
   "codemirror_mode": {
    "name": "ipython",
    "version": 3
   },
   "file_extension": ".py",
   "mimetype": "text/x-python",
   "name": "python",
   "nbconvert_exporter": "python",
   "pygments_lexer": "ipython3",
   "version": "3.10.16"
  }
 },
 "nbformat": 4,
 "nbformat_minor": 5
}
