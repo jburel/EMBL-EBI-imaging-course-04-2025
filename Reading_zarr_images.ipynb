{
 "cells": [
  {
   "cell_type": "markdown",
   "id": "50a93161",
   "metadata": {},
   "source": [
    "# Reading OME-Zarr files\n",
    "\n",
    "[![Open in Colab](https://colab.research.google.com/assets/colab-badge.svg)](https://colab.research.google.com/github/ome/EMBL-EBI-imaging-course-04-2025/blob/main/Reading_zarr_images.ipynb)\n"
   ]
  },
  {
   "cell_type": "markdown",
   "id": "68d06480",
   "metadata": {},
   "source": [
    "## Learning Objectives\n",
    "\n",
    "* Access OME-Zarr files over https\n",
    "* Learn how to access local OME-Zarr file in Python\n",
    "* Learn how to access remote OME-Zarr file in Python"
   ]
  },
  {
   "cell_type": "markdown",
   "id": "f3643975",
   "metadata": {},
   "source": [
    "There are several ways to access data. For the purpose of the topics covered in this workshop, we will access files over ``https`` and use [dask](https://dask.org/)\n",
    "\n",
    "Some sofware packages require to have all the 2D planes in memory in order to work other can work on planar data. We will now show two mechanisms to access the data depending on the needs using ``dask.array.from_zarr``."
   ]
  },
  {
   "cell_type": "markdown",
   "id": "bd8bf058",
   "metadata": {},
   "source": [
    "### Install dependencies if required\n",
    "If using Google Colab, **do not** use the ``Runtime>Run all`` entry."
   ]
  },
  {
   "cell_type": "code",
   "execution_count": null,
   "id": "d5559bf1",
   "metadata": {},
   "outputs": [],
   "source": [
    "%pip install zarr"
   ]
  },
  {
   "cell_type": "markdown",
   "id": "61cfa1fc",
   "metadata": {},
   "source": [
    "## How to access local OME-Zarr file using Python"
   ]
  },
  {
   "cell_type": "code",
   "execution_count": 9,
   "id": "b2ce5945",
   "metadata": {},
   "outputs": [],
   "source": [
    "import dask\n",
    "import dask.array as da\n",
    "from dask.diagnostics import ProgressBar\n",
    "import numpy"
   ]
  },
  {
   "cell_type": "markdown",
   "id": "2c1aec38",
   "metadata": {},
   "source": [
    "## How to access OME-Zarr file on S3\n",
    "\n",
    "To view the data in S3, several options are possible. \n",
    "For the purpose of this workshop, we will view the data over ``https``."
   ]
  },
  {
   "cell_type": "markdown",
   "id": "3161658b",
   "metadata": {},
   "source": [
    "## Read the OME-Zarr file stored in S3 using Python\n",
    "The ``B4_C3.tif`` image has been converted into OME-Zarr and is available on S3.\n",
    "In the example below, we use remote data. The same logic applies when reading local Zarr files."
   ]
  },
  {
   "cell_type": "code",
   "execution_count": 14,
   "id": "06bb400c",
   "metadata": {},
   "outputs": [],
   "source": [
    "image_id = 6001247"
   ]
  },
  {
   "cell_type": "code",
   "execution_count": 15,
   "id": "54fc672f",
   "metadata": {},
   "outputs": [],
   "source": [
    "ENPOINT_URL = 'https://uk1s3.embassy.ebi.ac.uk/'"
   ]
  },
  {
   "cell_type": "markdown",
   "id": "09ef18e3",
   "metadata": {},
   "source": [
    "### Option 1: Load the binary\n",
    "Load the binary. In that case, we load the 5D-image. This might be required when using a software needing to access the 5D-image to analyse the data. This approach should only be used if the 5D-image is required."
   ]
  },
  {
   "cell_type": "code",
   "execution_count": 20,
   "id": "57de8fed",
   "metadata": {},
   "outputs": [],
   "source": [
    "def load_binary_from_s3_with_data(name, resolution='0'):\n",
    "    root = '%s/%s/' % (name, resolution)\n",
    "    with ProgressBar():\n",
    "        return numpy.asarray(da.from_zarr(ENPOINT_URL + root))"
   ]
  },
  {
   "cell_type": "markdown",
   "id": "38d64a8f",
   "metadata": {},
   "source": [
    "This time when the slider is moved, the plate is loaded from disk since it has already been downloaded."
   ]
  },
  {
   "cell_type": "code",
   "execution_count": 32,
   "id": "40842789",
   "metadata": {},
   "outputs": [
    {
     "data": {
      "application/vnd.jupyter.widget-view+json": {
       "model_id": "84f8429d6ea7482d8b57466458a627c4",
       "version_major": 2,
       "version_minor": 0
      },
      "text/plain": [
       "interactive(children=(IntSlider(value=0, continuous_update=False, description='Select Z', max=256), Output()),…"
      ]
     },
     "metadata": {},
     "output_type": "display_data"
    },
    {
     "data": {
      "text/plain": [
       "<function __main__.update(z=0)>"
      ]
     },
     "execution_count": 32,
     "metadata": {},
     "output_type": "execute_result"
    }
   ],
   "source": [
    "interact(update, z= widgets.IntSlider(value=0, min=0, max=data.shape[2]-1, step=1, description=\"Select Z\", continuous_update=False))"
   ]
  },
  {
   "cell_type": "markdown",
   "id": "d68377a7-180c-4f41-8395-35bf70cbe0fe",
   "metadata": {},
   "source": [
    "### Option 1: Lazy Loading\n",
    "\n",
    "The method below will return a Dask array **without** any binary data i.e. **lazy loading**. The dimension order of the array returned is ``(TCZYX)``. \n",
    "\n",
    "Main point to keep in mind is that binary data are not loaded until it is used, i.e. it is **lazily loaded**. \n",
    "The plane will be loaded when the slider is moved."
   ]
  },
  {
   "cell_type": "code",
   "execution_count": null,
   "id": "3eddb254-2d03-4031-b643-f982d000abe3",
   "metadata": {},
   "outputs": [],
   "source": [
    "def load_binary_from_s3(name, resolution='0'):\n",
    "    root = '%s/%s/' % (name, resolution)\n",
    "    return da.from_zarr(ENPOINT_URL + root)"
   ]
  },
  {
   "cell_type": "code",
   "execution_count": null,
   "id": "74d9f589-09c0-4d3a-a350-23d9f404eed8",
   "metadata": {},
   "outputs": [],
   "source": [
    "%%time \n",
    "name = 'idr/zarr/v0.1/%s.zarr' % image_id\n",
    "data = load_binary_from_s3(name)\n",
    "print(data.shape)"
   ]
  },
  {
   "cell_type": "code",
   "execution_count": null,
   "id": "a9e88dd4-966d-456e-8a6b-51a535fe07af",
   "metadata": {},
   "outputs": [],
   "source": [
    "import matplotlib.pyplot as plt\n",
    "%matplotlib inline\n",
    "from ipywidgets import *\n",
    "\n",
    "def update(z=0):\n",
    "    fig = plt.figure(figsize=(10, 10))\n",
    "    plt.subplot(121)\n",
    "    c = 1\n",
    "    t = 0\n",
    "    plt.imshow(data[t, c, z, :, :])\n",
    "    fig.canvas.flush_events()"
   ]
  },
  {
   "cell_type": "code",
   "execution_count": null,
   "id": "eef286b5-8a67-4e53-9bb8-9b3a1910e368",
   "metadata": {},
   "outputs": [],
   "source": [
    "%%time \n",
    "name = 'idr/zarr/v0.1/%s.zarr' % image_id\n",
    "data = load_binary_from_s3_with_data(name)\n",
    "print(data.shape)"
   ]
  },
  {
   "cell_type": "markdown",
   "id": "e2f81a8e",
   "metadata": {},
   "source": [
    "### License (BSD 2-Clause)\n",
    "Copyright (C) 2025 University of Dundee. All Rights Reserved.\n",
    "\n",
    "Redistribution and use in source and binary forms, with or without modification, are permitted provided that the following conditions are met:\n",
    "\n",
    "Redistributions of source code must retain the above copyright notice, this list of conditions and the following disclaimer.\n",
    "Redistributions in binary form must reproduce the above copyright notice, this list of conditions and the following disclaimer in the documentation and/or other materials provided with the distribution.\n",
    "THIS SOFTWARE IS PROVIDED BY THE COPYRIGHT HOLDERS AND CONTRIBUTORS \"AS IS\" AND ANY EXPRESS OR IMPLIED WARRANTIES, INCLUDING, BUT NOT LIMITED TO, THE IMPLIED WARRANTIES OF MERCHANTABILITY AND FITNESS FOR A PARTICULAR PURPOSE ARE DISCLAIMED. IN NO EVENT SHALL THE COPYRIGHT OWNER OR CONTRIBUTORS BE LIABLE FOR ANY DIRECT, INDIRECT, INCIDENTAL, SPECIAL, EXEMPLARY, OR CONSEQUENTIAL DAMAGES (INCLUDING, BUT NOT LIMITED TO, PROCUREMENT OF SUBSTITUTE GOODS OR SERVICES; LOSS OF USE, DATA, OR PROFITS; OR BUSINESS INTERRUPTION) HOWEVER CAUSED AND ON ANY THEORY OF LIABILITY, WHETHER IN CONTRACT, STRICT LIABILITY, OR TORT (INCLUDING NEGLIGENCE OR OTHERWISE) ARISING IN ANY WAY OUT OF THE USE OF THIS SOFTWARE, EVEN IF ADVISED OF THE POSSIBILITY OF SUCH DAMAGE."
   ]
  }
 ],
 "metadata": {
  "kernelspec": {
   "display_name": "Python 3 (ipykernel)",
   "language": "python",
   "name": "python3"
  },
  "language_info": {
   "codemirror_mode": {
    "name": "ipython",
    "version": 3
   },
   "file_extension": ".py",
   "mimetype": "text/x-python",
   "name": "python",
   "nbconvert_exporter": "python",
   "pygments_lexer": "ipython3",
   "version": "3.10.16"
  }
 },
 "nbformat": 4,
 "nbformat_minor": 5
}
