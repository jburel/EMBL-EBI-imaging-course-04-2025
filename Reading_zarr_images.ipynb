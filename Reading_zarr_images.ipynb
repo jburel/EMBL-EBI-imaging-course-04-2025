{
 "cells": [
  {
   "cell_type": "markdown",
   "id": "50a93161",
   "metadata": {},
   "source": [
    "# Reading OME-Zarr files\n",
    "\n",
    "[![Open in Colab](https://colab.research.google.com/assets/colab-badge.svg)](https://colab.research.google.com/github/ome/EMBL-EBI-imaging-course-04-2025/blob/main/Reading_zarr_images.ipynb)\n"
   ]
  },
  {
   "cell_type": "markdown",
   "id": "68d06480",
   "metadata": {},
   "source": [
    "## Learning Objectives\n",
    "\n",
    "* Access OME-Zarr files over https\n",
    "* Learn how to access local OME-Zarr file in Python\n",
    "* Learn how to access remote OME-Zarr file in Python"
   ]
  },
  {
   "cell_type": "markdown",
   "id": "f3643975",
   "metadata": {},
   "source": [
    "There are several ways to access data. For the purpose of the topics covered in this workshop, we will access files over ``https`` and use [dask](https://dask.org/)\n",
    "\n",
    "Some sofware packages require to have all the 2D planes in memory in order to work other can work on planar data. We will now show two mechanisms to access the data depending on the needs using ``dask.array.from_zarr``."
   ]
  },
  {
   "cell_type": "markdown",
   "id": "bd8bf058",
   "metadata": {},
   "source": [
    "### Install dependencies if required\n",
    "If using Google Colab, **do not** use the ``Runtime>Run all`` entry."
   ]
  },
  {
   "cell_type": "code",
   "execution_count": null,
   "id": "d5559bf1",
   "metadata": {},
   "outputs": [],
   "source": [
    "%pip install zarr"
   ]
  },
  {
   "cell_type": "markdown",
   "id": "61cfa1fc",
   "metadata": {},
   "source": [
    "## How to access local OME-Zarr file using Python\n",
    "Like with OME-TIFF, OME-Zarr is primarily metadata within the container format Zarr. \n",
    "You can use low-level existing underlying libraries to access the raw bytes. It is nonetheless to work on the chunks in parallel.\n",
    "The [Dask]((https://www.dask.org/) is a useful library to start with"
   ]
  },
  {
   "cell_type": "code",
   "execution_count": 9,
   "id": "b2ce5945",
   "metadata": {},
   "outputs": [],
   "source": [
    "import dask\n",
    "import dask.array as da\n",
    "from dask.diagnostics import ProgressBar\n",
    "import numpy"
   ]
  },
  {
   "cell_type": "markdown",
   "id": "2c1aec38",
   "metadata": {},
   "source": [
    "## How to access OME-Zarr file on S3\n",
    "\n",
    "To view the data in S3, several options are possible. \n",
    "For the purpose of this workshop, we will view the data over ``https``."
   ]
  },
  {
   "cell_type": "markdown",
   "id": "3161658b",
   "metadata": {},
   "source": [
    "## Read the OME-Zarr file stored in S3 using Python\n",
    "The ``B4_C3.tif`` image has been converted into OME-Zarr and is available on S3.\n",
    "In the example below, we use remote data. The same logic applies when reading local Zarr files."
   ]
  },
  {
   "cell_type": "code",
   "execution_count": 14,
   "id": "06bb400c",
   "metadata": {},
   "outputs": [],
   "source": [
    "image_id = 6001247"
   ]
  },
  {
   "cell_type": "code",
   "execution_count": 15,
   "id": "54fc672f",
   "metadata": {},
   "outputs": [],
   "source": [
    "ENPOINT_URL = 'https://uk1s3.embassy.ebi.ac.uk/'"
   ]
  },
  {
   "cell_type": "code",
   "execution_count": null,
   "id": "534862cd-c796-4773-86a3-5a007de93788",
   "metadata": {},
   "outputs": [],
   "source": [
    "# Helper method to display the data\n",
    "import matplotlib.pyplot as plt\n",
    "%matplotlib inline\n",
    "from ipywidgets import *\n",
    "\n",
    "def update(z=0):\n",
    "    fig = plt.figure(figsize=(10, 10))\n",
    "    plt.subplot(121)\n",
    "    c = 1\n",
    "    t = 0\n",
    "    plt.imshow(data[t, c, z, :, :])\n",
    "    fig.canvas.flush_events()"
   ]
  },
  {
   "cell_type": "markdown",
   "id": "09ef18e3",
   "metadata": {},
   "source": [
    "### Option 1: Load the binary\n",
    "Load the binary. In that case, we load the 5D-image. This might be required when using a software needing to access the 5D-image to analyse the data. This approach should only be used if the 5D-image is required."
   ]
  },
  {
   "cell_type": "code",
   "execution_count": 20,
   "id": "57de8fed",
   "metadata": {},
   "outputs": [],
   "source": [
    "def load_binary_from_s3_with_data(name, resolution='0'):\n",
    "    root = '%s/%s/' % (name, resolution)\n",
    "    with ProgressBar():\n",
    "        return numpy.asarray(da.from_zarr(ENPOINT_URL + root))"
   ]
  },
  {
   "cell_type": "code",
   "execution_count": null,
   "id": "89ec1ca0-d6f7-4846-a6d0-ad5c3e9d2562",
   "metadata": {},
   "outputs": [],
   "source": [
    "%%time \n",
    "name = 'idr/zarr/v0.1/%s.zarr' % image_id\n",
    "data = load_binary_from_s3_with_data(name)\n",
    "print(data.shape)"
   ]
  },
  {
   "cell_type": "markdown",
   "id": "38d64a8f",
   "metadata": {},
   "source": [
    "When the slider is moved, the plane is loaded **from disk** since it has already been downloaded."
   ]
  },
  {
   "cell_type": "code",
   "execution_count": 32,
   "id": "40842789",
   "metadata": {},
   "outputs": [
    {
     "data": {
      "application/vnd.jupyter.widget-view+json": {
       "model_id": "84f8429d6ea7482d8b57466458a627c4",
       "version_major": 2,
       "version_minor": 0
      },
      "text/plain": [
       "interactive(children=(IntSlider(value=0, continuous_update=False, description='Select Z', max=256), Output()),…"
      ]
     },
     "metadata": {},
     "output_type": "display_data"
    },
    {
     "data": {
      "text/plain": [
       "<function __main__.update(z=0)>"
      ]
     },
     "execution_count": 32,
     "metadata": {},
     "output_type": "execute_result"
    }
   ],
   "source": [
    "interact(update, z= widgets.IntSlider(value=0, min=0, max=data.shape[2]-1, step=1, description=\"Select Z\", continuous_update=False))"
   ]
  },
  {
   "cell_type": "markdown",
   "id": "d68377a7-180c-4f41-8395-35bf70cbe0fe",
   "metadata": {},
   "source": [
    "### Option 2: Lazy Loading\n",
    "\n",
    "The method below will return a Dask array **without** any binary data i.e. **lazy loading**. The dimension order of the array returned is ``(TCZYX)``. "
   ]
  },
  {
   "cell_type": "code",
   "execution_count": null,
   "id": "3eddb254-2d03-4031-b643-f982d000abe3",
   "metadata": {},
   "outputs": [],
   "source": [
    "def load_binary_from_s3(name, resolution='0'):\n",
    "    root = '%s/%s/' % (name, resolution)\n",
    "    return da.from_zarr(ENPOINT_URL + root)"
   ]
  },
  {
   "cell_type": "code",
   "execution_count": null,
   "id": "74d9f589-09c0-4d3a-a350-23d9f404eed8",
   "metadata": {},
   "outputs": [],
   "source": [
    "%%time \n",
    "name = 'idr/zarr/v0.1/%s.zarr' % image_id\n",
    "data = load_binary_from_s3(name)\n",
    "print(data.shape)"
   ]
  },
  {
   "cell_type": "markdown",
   "id": "e988b27b-54ae-4f89-b100-55fd3d5293bc",
   "metadata": {},
   "source": [
    "Main point to keep in mind is that binary data **are not** loaded until it is used, i.e. it is **lazily loaded**. \n",
    "The plane will be loaded when the slider is moved."
   ]
  },
  {
   "cell_type": "code",
   "execution_count": null,
   "id": "a9f0c8ee-7704-49f8-a0b7-2c43aba971e9",
   "metadata": {},
   "outputs": [],
   "source": [
    "interact(update, z= widgets.IntSlider(value=0, min=0, max=data.shape[2]-1, step=1, description=\"Select Z\", continuous_update=False))"
   ]
  },
  {
   "cell_type": "markdown",
   "id": "e0adbaaf-3975-4082-a395-a2d28d391b2a",
   "metadata": {},
   "source": [
    "### Load the labels\n",
    "zarr images can be seen as a \"container\": it is possible to store alongside the acquired binary data, the output of analytical results for example ``masks``.\n",
    "Labels if any are stored under the ``labels`` folder.\n"
   ]
  },
  {
   "cell_type": "code",
   "execution_count": null,
   "id": "bcc7424b-9183-41aa-b239-261c0b1af473",
   "metadata": {},
   "outputs": [],
   "source": [
    "%%time\n",
    "name = 'idr/zarr/v0.1/%s.zarr/labels' % image_id\n",
    "labels = load_binary_from_s3(name)"
   ]
  },
  {
   "cell_type": "code",
   "execution_count": null,
   "id": "6b784127-9057-46e5-bafd-cb6d288aab0e",
   "metadata": {},
   "outputs": [],
   "source": [
    "print(labels.shape)"
   ]
  },
  {
   "cell_type": "markdown",
   "id": "8e042a96-6703-4d64-88af-551a4fb03929",
   "metadata": {},
   "source": [
    "The labels were saved for one channel only. This is why the ``C`` dimensions are not the same."
   ]
  },
  {
   "cell_type": "code",
   "execution_count": null,
   "id": "ecdc66f1-d9eb-473c-96e3-46c6b10cb7a7",
   "metadata": {},
   "outputs": [],
   "source": [
    "import matplotlib.pyplot as plt\n",
    "%matplotlib inline\n",
    "c = 1\n",
    "t = 0\n",
    "z = 100\n",
    "plt.imshow(data[t, c, z, :, :])\n",
    "plt.imshow(labels[t, 0, z, :, :], cmap='jet', alpha=0.5) "
   ]
  },
  {
   "cell_type": "markdown",
   "id": "0bea91b7-7713-46ff-8108-7859c2071da5",
   "metadata": {},
   "source": [
    "## Analyze an image in parallel\n",
    "The Lightsheet image below is taken from the paper \"In Toto Imaging and Reconstruction of Post-Implantation Mouse Development at the Single-Cell Level\" published October 2018 in Cell: [https://doi.org/10.1016/j.cell.2018.09.031](https://doi.org/10.1016/j.cell.2018.09.031). The images can be viewed online in the [Image Data Resource](https://idr.openmicroscopy.org/).\n",
    "\n",
    "The original image ID is used to identify the file on the S3 store."
   ]
  },
  {
   "cell_type": "code",
   "execution_count": null,
   "id": "61b14971-4841-4605-bcaa-09a7efe9c7a3",
   "metadata": {},
   "outputs": [],
   "source": [
    "image_id = 4007801"
   ]
  },
  {
   "cell_type": "markdown",
   "id": "6f89bdd8-5d20-468a-8c26-124ab5e1afc1",
   "metadata": {},
   "source": [
    "Load the dask array"
   ]
  },
  {
   "cell_type": "code",
   "execution_count": null,
   "id": "0e0123ee-4ea6-462d-ad81-867ed9bf7d31",
   "metadata": {},
   "outputs": [],
   "source": [
    "name = 'idr/zarr/v0.1/%s.zarr' % image_id\n",
    "data = load_binary_from_s3(image_id, resolution='4')"
   ]
  },
  {
   "cell_type": "code",
   "execution_count": null,
   "id": "4a3d8e52-e55d-45b5-8092-3150a355a98b",
   "metadata": {},
   "outputs": [],
   "source": [
    "# Check the dimension of the array\n",
    "print(data.shape)"
   ]
  },
  {
   "cell_type": "markdown",
   "id": "6acd4874-f18c-42a8-a6a2-d8330ca10aad",
   "metadata": {},
   "source": [
    "Segment the image\n",
    "This could be replaced by the analysis you wish to perform on a plane."
   ]
  },
  {
   "cell_type": "code",
   "execution_count": null,
   "id": "75e8730d-e4fe-456a-9e51-c1b8681f7d4b",
   "metadata": {},
   "outputs": [],
   "source": [
    "from skimage.filters import threshold_otsu\n",
    "from skimage.morphology import closing\n",
    "from skimage.filters import gaussian\n",
    "from skimage.measure import label\n",
    "\n",
    "def analyze(t, c, z):\n",
    "    plane = data[t, c, z, :, :].compute() # convert the Dask array into a Numpy array\n",
    "    smoothed_image = gaussian(plane, sigma=1)\n",
    "    black_white_plane = closing(smoothed_image > threshold_otsu(plane))\n",
    "    label_image = label(black_white_plane)\n",
    "    name = \"t:%s, c: %s, z:%s\" % (t, c, z)\n",
    "    return label_image, name"
   ]
  },
  {
   "cell_type": "markdown",
   "id": "12b3e366-ea7e-4eb1-bc4c-49f3af2d803b",
   "metadata": {},
   "source": [
    "We use ``dask.delayed`` on our function so it records what we want to compute as a task into a graph that will run later on parallel hardware.\n",
    "\n",
    "Due to the size of the image, we only analyze in the context of this notebook a few planes around the middle z-section and middle timepoint for the first channel."
   ]
  },
  {
   "cell_type": "markdown",
   "id": "51fc36a7-abd1-4342-a3b5-60f9d2ae7194",
   "metadata": {},
   "source": [
    "First prepare the graph. At this stage, we **do not** load the binary data."
   ]
  },
  {
   "cell_type": "code",
   "execution_count": null,
   "id": "33cf2ab4-d189-4abf-b80d-b213d49bc342",
   "metadata": {},
   "outputs": [],
   "source": [
    "lazy_results = []\n",
    "middle_z = data.shape[2] // 2\n",
    "middle_t = data.shape[0] // 2\n",
    "range_t = 2\n",
    "range_z = 2\n",
    "range_c = 1\n",
    "for t in range(middle_t - range_t, middle_t + range_t):\n",
    "    for z in range(middle_z - range_z, middle_z + range_z):\n",
    "        for c in range(range_c):\n",
    "            lazy_result = dask.delayed(analyze)(t, c, z)\n",
    "            lazy_results.append(lazy_result)\n",
    "print(lazy_results)"
   ]
  },
  {
   "cell_type": "markdown",
   "id": "d7d0c1e3-49b3-4727-bdbd-17156ab4faae",
   "metadata": {},
   "source": [
    "Run the analysis in parallel\n",
    "\n",
    "The lazy_results list contains information about ``number_t*number_z*number_c`` calls to our function ``analyze``. We call ``dask.compute`` when we want the results. The binary data is loaded from the S3 store during the ``compute`` phase and the analysis is performed."
   ]
  },
  {
   "cell_type": "code",
   "execution_count": null,
   "id": "e42659bb-ac1d-4247-857e-f771241d586d",
   "metadata": {},
   "outputs": [],
   "source": [
    "%time results = dask.compute(*lazy_results)"
   ]
  },
  {
   "cell_type": "markdown",
   "id": "c09f568e-e8b0-464e-bac2-4bc6f21d14e4",
   "metadata": {},
   "source": [
    "Display the segmented planes. Use the slider to select the plane."
   ]
  },
  {
   "cell_type": "code",
   "execution_count": null,
   "id": "f8e33c28-624a-4d32-a7b3-fb69628b27fc",
   "metadata": {},
   "outputs": [],
   "source": [
    "from ipywidgets import *\n",
    "\n",
    "def display(i=0):\n",
    "    r, name = results[i]\n",
    "    fig = plt.figure(figsize=(10, 10))\n",
    "    plt.subplot(121)\n",
    "    plt.imshow(r)\n",
    "    plt.title(name)\n",
    "    fig.canvas.flush_events()\n",
    "\n",
    "interact(display, i= widgets.IntSlider(value=0, min=0, max=len(results)-1, step=1, description=\"Select Plane\", continuous_update=False))"
   ]
  },
  {
   "cell_type": "markdown",
   "id": "e2f81a8e",
   "metadata": {},
   "source": [
    "### License (BSD 2-Clause)\n",
    "Copyright (C) 2025 University of Dundee. All Rights Reserved.\n",
    "\n",
    "Redistribution and use in source and binary forms, with or without modification, are permitted provided that the following conditions are met:\n",
    "\n",
    "Redistributions of source code must retain the above copyright notice, this list of conditions and the following disclaimer.\n",
    "Redistributions in binary form must reproduce the above copyright notice, this list of conditions and the following disclaimer in the documentation and/or other materials provided with the distribution.\n",
    "THIS SOFTWARE IS PROVIDED BY THE COPYRIGHT HOLDERS AND CONTRIBUTORS \"AS IS\" AND ANY EXPRESS OR IMPLIED WARRANTIES, INCLUDING, BUT NOT LIMITED TO, THE IMPLIED WARRANTIES OF MERCHANTABILITY AND FITNESS FOR A PARTICULAR PURPOSE ARE DISCLAIMED. IN NO EVENT SHALL THE COPYRIGHT OWNER OR CONTRIBUTORS BE LIABLE FOR ANY DIRECT, INDIRECT, INCIDENTAL, SPECIAL, EXEMPLARY, OR CONSEQUENTIAL DAMAGES (INCLUDING, BUT NOT LIMITED TO, PROCUREMENT OF SUBSTITUTE GOODS OR SERVICES; LOSS OF USE, DATA, OR PROFITS; OR BUSINESS INTERRUPTION) HOWEVER CAUSED AND ON ANY THEORY OF LIABILITY, WHETHER IN CONTRACT, STRICT LIABILITY, OR TORT (INCLUDING NEGLIGENCE OR OTHERWISE) ARISING IN ANY WAY OUT OF THE USE OF THIS SOFTWARE, EVEN IF ADVISED OF THE POSSIBILITY OF SUCH DAMAGE."
   ]
  }
 ],
 "metadata": {
  "kernelspec": {
   "display_name": "Python 3 (ipykernel)",
   "language": "python",
   "name": "python3"
  },
  "language_info": {
   "codemirror_mode": {
    "name": "ipython",
    "version": 3
   },
   "file_extension": ".py",
   "mimetype": "text/x-python",
   "name": "python",
   "nbconvert_exporter": "python",
   "pygments_lexer": "ipython3",
   "version": "3.10.16"
  }
 },
 "nbformat": 4,
 "nbformat_minor": 5
}
