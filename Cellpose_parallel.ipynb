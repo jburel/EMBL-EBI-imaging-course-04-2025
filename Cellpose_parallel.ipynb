{
 "cells": [
  {
   "cell_type": "markdown",
   "id": "27ff8099",
   "metadata": {},
   "source": [
    "# Load ome.zarr Image with labels from public S3 repositories, analyze in parallel using Cellpose and compare results\n",
    "\n",
    "[![Open in Colab](https://colab.research.google.com/assets/colab-badge.svg)](https://colab.research.google.com/github/ome/EMBL-EBI-imaging-course-04-2025/blob/main/Cellpose_parallel.ipynb)\n"
   ]
  },
  {
   "cell_type": "markdown",
   "id": "e3a1fc28",
   "metadata": {},
   "source": [
    "## Learning objectives\n",
    "\n",
    "* Read data to analyse from an object store.\n",
    "* Analyse data in parallel using Dask.\n",
    "* Show how to use public resources to train neural network.\n",
    "* Load labels associated to the original data\n",
    "* Compare results with ground truth."
   ]
  },
  {
   "cell_type": "markdown",
   "id": "177a6602",
   "metadata": {},
   "source": [
    "## Summary:\n",
    "![Overview](./includes/CellposeParallel.png)"
   ]
  },
  {
   "cell_type": "markdown",
   "id": "3fb703cf",
   "metadata": {},
   "source": [
    "The authors of the PLOS Biology paper, \"Nessys: A new set of tools for the automated detection of nuclei within intact tissues and dense 3D cultures\" published in August 2019: https://doi.org/10.1371/journal.pbio.3000388, considered several image segmenation packages, but they did not use the approach described in this notebook.\n",
    "\n",
    "We will analyse the data using [Cellpose](https://www.cellpose.org/) and compare the output with the original segmentation produced by the authors. Cellpose was not considered by the authors. Our workflow shows how public repository can be accessed and data inside it used to validate software tools or new algorithms.\n",
    "\n",
    "We will use a predefined model from [Cellpose](https://www.cellpose.org/) as a starting point."
   ]
  },
  {
   "cell_type": "markdown",
   "id": "0e06b625",
   "metadata": {},
   "source": [
    "### Install dependencies if required\n",
    "\n",
    "The cell below will install dependencies if you choose to run the notebook in [Google Colab](https://colab.research.google.com/notebooks/intro.ipynb#recent=true). **Do not run the cell if you are not running the notebook on Google Colab**.\n",
    "\n",
    "If using Google Colab, **do not** use the ``Runtime>Run all`` entry."
   ]
  },
  {
   "cell_type": "code",
   "execution_count": 21,
   "id": "0b393c08",
   "metadata": {},
   "outputs": [],
   "source": [
    "# Package to access data on S3\n",
    "%pip install zarr\n",
    "\n",
    "# Package required to interact with Cellpose\n",
    "%pip install cellpose"
   ]
  },
  {
   "cell_type": "markdown",
   "id": "b0be9f61",
   "metadata": {},
   "source": [
    "## Lazy Load the data\n",
    "The method below will return a dask array without any binary data. The dimension order of the array returned is (TCZYX). Data will be loaded when requested later."
   ]
  },
  {
   "cell_type": "code",
   "execution_count": 1,
   "id": "c03df9c1",
   "metadata": {},
   "outputs": [],
   "source": [
    "image_id = 6001247"
   ]
  },
  {
   "cell_type": "code",
   "execution_count": 2,
   "id": "6fba0e1e",
   "metadata": {},
   "outputs": [],
   "source": [
    "ENPOINT_URL = 'https://uk1s3.embassy.ebi.ac.uk/'"
   ]
  },
  {
   "cell_type": "code",
   "execution_count": 3,
   "id": "ab22f7ba",
   "metadata": {},
   "outputs": [],
   "source": [
    "import dask\n",
    "import dask.array as da\n",
    "def load_binary_from_s3(name, resolution='0'):\n",
    "    root = '%s/%s/' % (name, resolution)\n",
    "    return da.from_zarr(ENPOINT_URL + root)"
   ]
  },
  {
   "cell_type": "code",
   "execution_count": 4,
   "id": "d0165b2f",
   "metadata": {},
   "outputs": [
    {
     "name": "stdout",
     "output_type": "stream",
     "text": [
      "CPU times: user 194 ms, sys: 83.8 ms, total: 278 ms\n",
      "Wall time: 4.32 s\n"
     ]
    }
   ],
   "source": [
    "%%time \n",
    "name = 'idr/zarr/v0.1/%s.zarr' % (image_id)\n",
    "data = load_binary_from_s3(name)"
   ]
  },
  {
   "cell_type": "markdown",
   "id": "4a6c28d6",
   "metadata": {},
   "source": [
    "## Load Cellpose trained model \n",
    "\n",
    "We use an existing trained model from Cellpose. The cytoplasm model in cellpose is trained on two-channel images, where the first channel is the channel to segment, and the second channel is an optional nuclear channel. \n",
    "Please check Cellpose documentation and examples to load your own model."
   ]
  },
  {
   "cell_type": "code",
   "execution_count": 5,
   "id": "28fb6081",
   "metadata": {},
   "outputs": [],
   "source": [
    "from cellpose import models\n",
    "model = models.Cellpose(gpu=False, model_type='cyto')"
   ]
  },
  {
   "cell_type": "markdown",
   "id": "2f4e2188",
   "metadata": {},
   "source": [
    "## Helper methods\n",
    "\n",
    "* Define the analysis to be performed\n",
    "* Build the graph to compute"
   ]
  },
  {
   "cell_type": "code",
   "execution_count": 6,
   "id": "298903ce",
   "metadata": {},
   "outputs": [],
   "source": [
    "def analyze(z):\n",
    "    t = 0\n",
    "    channels = [[0, 1]]\n",
    "    model = models.Cellpose(gpu=False, model_type='cyto')\n",
    "    cellpose_masks, flows, styles, diams = model.eval(data[t, :, z, :, :], diameter=None, channels=channels)\n",
    "    return cellpose_masks, z"
   ]
  },
  {
   "cell_type": "markdown",
   "id": "8ee7bc74",
   "metadata": {},
   "source": [
    "We use ``dask.delayed`` to analyse a few Z-sections around the middle z-section.\n",
    "This very quick since we build the [task graph](https://docs.dask.org/en/stable/graphs.html) and do not perform the analysis at this stage"
   ]
  },
  {
   "cell_type": "code",
   "execution_count": 7,
   "id": "134a0cdf",
   "metadata": {},
   "outputs": [
    {
     "name": "stdout",
     "output_type": "stream",
     "text": [
      "CPU times: user 9 µs, sys: 2 µs, total: 11 µs\n",
      "Wall time: 18.1 µs\n"
     ]
    }
   ],
   "source": [
    "%%time\n",
    "def build_task_graph(range_z):\n",
    "    lazy_results = []\n",
    "    middle_z = data.shape[2] // 2\n",
    "    for z in range(middle_z - range_z, middle_z + range_z):\n",
    "        lazy_result = dask.delayed(analyze)(z)\n",
    "        lazy_results.append(lazy_result)\n",
    "    return lazy_results"
   ]
  },
  {
   "cell_type": "markdown",
   "id": "ee02a8ac",
   "metadata": {},
   "source": [
    "## Compute\n",
    "* Build the task graph to compute\n",
    "* Perform the analysis in parallel"
   ]
  },
  {
   "cell_type": "code",
   "execution_count": 8,
   "id": "444fbbb9",
   "metadata": {},
   "outputs": [
    {
     "name": "stdout",
     "output_type": "stream",
     "text": [
      "[Delayed('analyze-b97db086-3fb2-4036-a936-a85b4aa83bb4'), Delayed('analyze-53806bc4-3850-4b89-90c8-c9e46817611f'), Delayed('analyze-9df0f549-bbc3-4f7e-98b1-3c380eac19df'), Delayed('analyze-c125e1a1-dadc-4214-93db-bc89280af542')]\n",
      "CPU times: user 2.02 ms, sys: 575 µs, total: 2.59 ms\n",
      "Wall time: 2.58 ms\n"
     ]
    }
   ],
   "source": [
    "%%time\n",
    "# Build the task graph\n",
    "lazy_results = build_task_graph(2)\n",
    "print(lazy_results)"
   ]
  },
  {
   "cell_type": "code",
   "execution_count": 9,
   "id": "5702e780",
   "metadata": {},
   "outputs": [
    {
     "name": "stdout",
     "output_type": "stream",
     "text": [
      "CPU times: user 44.1 s, sys: 10.9 s, total: 55 s\n",
      "Wall time: 8.45 s\n"
     ]
    }
   ],
   "source": [
    "%%time\n",
    "# Analyse the data in parallel\n",
    "results = dask.compute(*lazy_results)"
   ]
  },
  {
   "cell_type": "markdown",
   "id": "e60759c7",
   "metadata": {},
   "source": [
    "## View the results "
   ]
  },
  {
   "cell_type": "code",
   "execution_count": 10,
   "id": "ccdf516c",
   "metadata": {},
   "outputs": [
    {
     "data": {
      "application/vnd.jupyter.widget-view+json": {
       "model_id": "171a1d73527349c28c166e0d9a14bf72",
       "version_major": 2,
       "version_minor": 0
      },
      "text/plain": [
       "interactive(children=(IntSlider(value=0, continuous_update=False, description='Select Plane', max=3), Output()…"
      ]
     },
     "metadata": {},
     "output_type": "display_data"
    },
    {
     "data": {
      "text/plain": [
       "<function __main__.display_results(i=0)>"
      ]
     },
     "execution_count": 10,
     "metadata": {},
     "output_type": "execute_result"
    }
   ],
   "source": [
    "import matplotlib.pyplot as plt\n",
    "%matplotlib inline\n",
    "from ipywidgets import *\n",
    "\n",
    "def display_results(i=0):\n",
    "    r, z = results[i]\n",
    "    fig = plt.figure(figsize=(10, 10))\n",
    "    plt.subplot(121)\n",
    "    plt.imshow(r)\n",
    "    plt.title(\"z: %s\" % z)\n",
    "    fig.canvas.flush_events()\n",
    "\n",
    "interact(display_results, i= widgets.IntSlider(value=0, min=0, max=len(results)-1, step=1, description=\"Select Plane\", continuous_update=False))"
   ]
  },
  {
   "cell_type": "markdown",
   "id": "f3315ba2",
   "metadata": {},
   "source": [
    "## Compare the original analysis result with the Cellpose result\n",
    "On the right, the labels loaded from S3 representing the original analysis by the authors of the paper. On the left, the masks from Cellpose."
   ]
  },
  {
   "cell_type": "markdown",
   "id": "951c6bde",
   "metadata": {},
   "source": [
    "### Load the labels\n",
    "Load the labels from S3. Labels are stored alongside the binary data."
   ]
  },
  {
   "cell_type": "code",
   "execution_count": 11,
   "id": "25962f5a",
   "metadata": {},
   "outputs": [
    {
     "name": "stdout",
     "output_type": "stream",
     "text": [
      "CPU times: user 10.3 ms, sys: 3.48 ms, total: 13.8 ms\n",
      "Wall time: 116 ms\n"
     ]
    }
   ],
   "source": [
    "%%time\n",
    "name = 'idr/zarr/v0.1/%s.zarr/labels' % image_id\n",
    "labels = load_binary_from_s3(name)"
   ]
  },
  {
   "cell_type": "code",
   "execution_count": 12,
   "id": "30a6562b",
   "metadata": {},
   "outputs": [
    {
     "name": "stdout",
     "output_type": "stream",
     "text": [
      "(1, 1, 257, 210, 253)\n"
     ]
    }
   ],
   "source": [
    "print(labels.shape)"
   ]
  },
  {
   "cell_type": "code",
   "execution_count": 13,
   "id": "b38d97f4",
   "metadata": {},
   "outputs": [
    {
     "data": {
      "application/vnd.jupyter.widget-view+json": {
       "model_id": "d4289573f4ad4e09af146e8c286754b5",
       "version_major": 2,
       "version_minor": 0
      },
      "text/plain": [
       "interactive(children=(IntSlider(value=0, continuous_update=False, description='Select Plane', max=3), Output()…"
      ]
     },
     "metadata": {},
     "output_type": "display_data"
    },
    {
     "data": {
      "text/plain": [
       "<function __main__.display(i=0)>"
      ]
     },
     "execution_count": 13,
     "metadata": {},
     "output_type": "execute_result"
    }
   ],
   "source": [
    "import matplotlib.pyplot as plt\n",
    "%matplotlib inline\n",
    "from ipywidgets import *\n",
    "\n",
    "def display(i=0):\n",
    "    r, z = results[i]\n",
    "    fig = plt.figure(figsize=(10, 10))\n",
    "    plt.subplot(121)\n",
    "    plt.imshow(r)\n",
    "    plt.title(\"Cellpose z: %s\" % z)\n",
    "    plt.subplot(122)\n",
    "    plt.imshow(labels[0, 0, z, :, :])\n",
    "    plt.title(\"Original z: %s\" % z)\n",
    "    fig.canvas.flush_events()\n",
    "\n",
    "interact(display, i= widgets.IntSlider(value=0, min=0, max=len(results)-1, step=1, description=\"Select Plane\", continuous_update=False))"
   ]
  },
  {
   "cell_type": "markdown",
   "id": "eb397484",
   "metadata": {},
   "source": [
    "## Cellpose and BIA data\n",
    "\n",
    "Using ome-zarr for both IDR and BIA allows us to use the same analytical pipeline on data stored in two different resources.\n",
    "We will run Cellpose against an [image](https://uk1s3.embassy.ebi.ac.uk/bia-integrator-data/pages/S-BIAD338/804b2976-1111-4099-8bfc-21d1d1d2163c.html) in BIA associated with the study with accession number [S-BIAD338]( https://www.ebi.ac.uk/biostudies/BioImages/studies/S-BIAD338)"
   ]
  },
  {
   "cell_type": "markdown",
   "id": "fb901dd3",
   "metadata": {},
   "source": [
    "### Lazy Loading of data\n",
    "\n",
    "To find the name, go to https://uk1s3.embassy.ebi.ac.uk/bia-integrator-data/pages/S-BIAD338/804b2976-1111-4099-8bfc-21d1d1d2163c.html. Click on ``Copy S3 URI to clipboard``, paste it here or into a text editor and remove the endpoint, i.e. the https://uk1s3.embassy.ebi.ac.uk."
   ]
  },
  {
   "cell_type": "code",
   "execution_count": 14,
   "id": "30dc4746",
   "metadata": {},
   "outputs": [
    {
     "name": "stdout",
     "output_type": "stream",
     "text": [
      "CPU times: user 9.39 ms, sys: 3.5 ms, total: 12.9 ms\n",
      "Wall time: 88.8 ms\n"
     ]
    }
   ],
   "source": [
    "%%time \n",
    "name = 'bia-integrator-data/S-BIAD338/804b2976-1111-4099-8bfc-21d1d1d2163c/804b2976-1111-4099-8bfc-21d1d1d2163c.zarr/0'\n",
    "data = load_binary_from_s3(name)"
   ]
  },
  {
   "cell_type": "code",
   "execution_count": 15,
   "id": "945b096e",
   "metadata": {},
   "outputs": [
    {
     "name": "stdout",
     "output_type": "stream",
     "text": [
      "[Delayed('analyze-4068c325-4a0f-4340-ab05-2612f158271f'), Delayed('analyze-9096e065-1630-40cd-92a9-f3d2d164a04f')]\n",
      "CPU times: user 1.19 ms, sys: 394 µs, total: 1.59 ms\n",
      "Wall time: 1.41 ms\n"
     ]
    }
   ],
   "source": [
    "%%time\n",
    "# Build the task graph. Due to the time and size of the image, we reduce the range\n",
    "lazy_results = build_task_graph(1)\n",
    "print(lazy_results)"
   ]
  },
  {
   "cell_type": "code",
   "execution_count": null,
   "id": "da5c2a4b",
   "metadata": {},
   "outputs": [],
   "source": [
    "%time results = dask.compute(*lazy_results)"
   ]
  },
  {
   "cell_type": "code",
   "execution_count": 79,
   "id": "762a944d",
   "metadata": {},
   "outputs": [
    {
     "data": {
      "application/vnd.jupyter.widget-view+json": {
       "model_id": "6dbece7170ae4c96bc8792ab6963d8ec",
       "version_major": 2,
       "version_minor": 0
      },
      "text/plain": [
       "interactive(children=(IntSlider(value=0, continuous_update=False, description='Select Plane', max=1), Output()…"
      ]
     },
     "metadata": {},
     "output_type": "display_data"
    },
    {
     "data": {
      "text/plain": [
       "<function __main__.display_results(i=0)>"
      ]
     },
     "execution_count": 79,
     "metadata": {},
     "output_type": "execute_result"
    }
   ],
   "source": [
    "interact(display_results, i= widgets.IntSlider(value=0, min=0, max=len(results)-1, step=1, description=\"Select Plane\", continuous_update=False))"
   ]
  },
  {
   "cell_type": "markdown",
   "id": "3133061a",
   "metadata": {},
   "source": [
    "### License (BSD 2-Clause)\n",
    "Copyright (C) 2024 University of Dundee. All Rights Reserved.\n",
    "\n",
    "Redistribution and use in source and binary forms, with or without modification, are permitted provided that the following conditions are met:\n",
    "\n",
    "Redistributions of source code must retain the above copyright notice, this list of conditions and the following disclaimer.\n",
    "Redistributions in binary form must reproduce the above copyright notice, this list of conditions and the following disclaimer in the documentation and/or other materials provided with the distribution.\n",
    "THIS SOFTWARE IS PROVIDED BY THE COPYRIGHT HOLDERS AND CONTRIBUTORS \"AS IS\" AND ANY EXPRESS OR IMPLIED WARRANTIES, INCLUDING, BUT NOT LIMITED TO, THE IMPLIED WARRANTIES OF MERCHANTABILITY AND FITNESS FOR A PARTICULAR PURPOSE ARE DISCLAIMED. IN NO EVENT SHALL THE COPYRIGHT OWNER OR CONTRIBUTORS BE LIABLE FOR ANY DIRECT, INDIRECT, INCIDENTAL, SPECIAL, EXEMPLARY, OR CONSEQUENTIAL DAMAGES (INCLUDING, BUT NOT LIMITED TO, PROCUREMENT OF SUBSTITUTE GOODS OR SERVICES; LOSS OF USE, DATA, OR PROFITS; OR BUSINESS INTERRUPTION) HOWEVER CAUSED AND ON ANY THEORY OF LIABILITY, WHETHER IN CONTRACT, STRICT LIABILITY, OR TORT (INCLUDING NEGLIGENCE OR OTHERWISE) ARISING IN ANY WAY OUT OF THE USE OF THIS SOFTWARE, EVEN IF ADVISED OF THE POSSIBILITY OF SUCH DAMAGE."
   ]
  }
 ],
 "metadata": {
  "kernelspec": {
   "display_name": "imaging_course_cellpose_day5_2024",
   "language": "python",
   "name": "imaging_course_cellpose_day5_2024"
  },
  "language_info": {
   "codemirror_mode": {
    "name": "ipython",
    "version": 3
   },
   "file_extension": ".py",
   "mimetype": "text/x-python",
   "name": "python",
   "nbconvert_exporter": "python",
   "pygments_lexer": "ipython3",
   "version": "3.9.19"
  }
 },
 "nbformat": 4,
 "nbformat_minor": 5
}
